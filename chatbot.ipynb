{
 "cells": [
  {
   "cell_type": "markdown",
   "id": "303e38f5",
   "metadata": {},
   "source": [
    "#### Conversational Q&A Chatbot \n",
    "We want to allow the user to have a back-and-forth conversation, meaning the application needs some sort of *\"memory\"* of past questions and answers, and some logic for incorportating those into the current thinking.\n",
    "We focus on adding logic for incorporting historical messages. \n",
    "We will focus on two approaches:-\n",
    "1. Chains, in which we always execute a retrival step;\n",
    "2. Agents, in which we giva a LLM discretion over whether and how to execute a retrieval step (or multiple retrieval)."
   ]
  },
  {
   "cell_type": "code",
   "execution_count": 61,
   "id": "3e1483b2",
   "metadata": {},
   "outputs": [],
   "source": [
    "import os\n",
    "from dotenv import load_dotenv\n",
    "from langchain_groq import ChatGroq"
   ]
  },
  {
   "cell_type": "code",
   "execution_count": 62,
   "id": "ef2710f4",
   "metadata": {},
   "outputs": [
    {
     "data": {
      "text/plain": [
       "True"
      ]
     },
     "execution_count": 62,
     "metadata": {},
     "output_type": "execute_result"
    }
   ],
   "source": [
    "load_dotenv()"
   ]
  },
  {
   "cell_type": "code",
   "execution_count": 63,
   "id": "4243a008",
   "metadata": {},
   "outputs": [],
   "source": [
    "groq_api_key = os.getenv(\"GROQ_API_KEY\")\n",
    "os.environ[\"HUGGINGFACEHUB_API_TOKEN\"] = os.getenv(\"HF_TOKEN_ZETA\")"
   ]
  },
  {
   "cell_type": "code",
   "execution_count": 64,
   "id": "7d3d5fd8",
   "metadata": {},
   "outputs": [],
   "source": [
    "llm = ChatGroq(groq_api_key=groq_api_key, model_name=\"llama3-8b-8192\")"
   ]
  },
  {
   "cell_type": "code",
   "execution_count": 65,
   "id": "b26c2a6d",
   "metadata": {},
   "outputs": [],
   "source": [
    "from langchain_huggingface import HuggingFaceEmbeddings\n",
    "embeddings = HuggingFaceEmbeddings(model_name=\"all-MiniLM-L6-v2\")"
   ]
  },
  {
   "cell_type": "code",
   "execution_count": 66,
   "id": "36d6c4f3",
   "metadata": {},
   "outputs": [],
   "source": [
    "import bs4\n",
    "\n",
    "from langchain_chroma import Chroma\n",
    "from langchain.chains import create_retrieval_chain\n",
    "from langchain.chains.combine_documents import create_stuff_documents_chain\n",
    "from langchain_core.prompts import ChatPromptTemplate\n",
    "from langchain_text_splitters import RecursiveCharacterTextSplitter\n",
    "\n",
    "from langchain_community.document_loaders import WebBaseLoader"
   ]
  },
  {
   "cell_type": "code",
   "execution_count": 67,
   "id": "085e8e77",
   "metadata": {},
   "outputs": [],
   "source": [
    "loader = WebBaseLoader(\n",
    "    web_path=(\"https://lilianweng.github.io/posts/2024-04-12-diffusion-video/\",),\n",
    "    bs_kwargs= dict(parse_only=bs4.SoupStrainer(\n",
    "        class_ = (\"post-content\", \"post-title\", \"post-header\")\n",
    "    ))\n",
    ")"
   ]
  },
  {
   "cell_type": "code",
   "execution_count": 68,
   "id": "83a22d85",
   "metadata": {},
   "outputs": [],
   "source": [
    "docs = loader.load()"
   ]
  },
  {
   "cell_type": "code",
   "execution_count": 69,
   "id": "7ed8ed1c",
   "metadata": {},
   "outputs": [
    {
     "data": {
      "text/plain": [
       "[Document(metadata={'source': 'https://lilianweng.github.io/posts/2024-04-12-diffusion-video/'}, page_content='\\n\\n      Diffusion Models for Video Generation\\n    \\nDate: April 12, 2024  |  Estimated Reading Time: 20 min  |  Author: Lilian Weng\\n\\n\\nDiffusion models have demonstrated strong results on image synthesis in past years. Now the research community has started working on a harder task—using it for video generation. The task itself is a superset of the image case, since an image is a video of 1 frame, and it is much more challenging because:\\n\\nIt has extra requirements on temporal consistency across frames in time, which naturally demands more world knowledge to be encoded into the model.\\nIn comparison to text or images, it is more difficult to collect large amounts of high-quality, high-dimensional video data, let along text-video pairs.\\n\\n\\n\\n🥑 Required Pre-read: Please make sure you have read the previous blog on “What are Diffusion Models?” for image generation before continue here.\\n\\n\\nVideo Generation Modeling from Scratch#\\nFirst let’s review approaches for designing and training diffusion video models from scratch, meaning that we do not rely on pre-trained image generators.\\nParameterization & Sampling Basics#\\nHere we use a slightly different variable definition from the previous post, but the math stays the same. Let $\\\\mathbf{x} \\\\sim q_\\\\text{real}$ be a data point sampled from the real data distribution. Now we are adding Gaussian noise in small amount in time, creating a sequence of noisy variations of $\\\\mathbf{x}$, denoted as $\\\\{\\\\mathbf{z}_t \\\\mid t =1 \\\\dots, T\\\\}$, with increasing amount of noise as $t$ increases and the last $q(\\\\mathbf{z}_T) \\\\sim \\\\mathcal{N}(\\\\mathbf{0}, \\\\mathbf{I})$. The noise-adding forward process is a Gaussian process. Let $\\\\alpha_t, \\\\sigma_t$ define a differentiable noise schedule of the Gaussian process:\\n\\n$$\\nq(\\\\mathbf{z}_t \\\\vert \\\\mathbf{x}) = \\\\mathcal{N}(\\\\mathbf{z}_t; \\\\alpha_t \\\\mathbf{x}, \\\\sigma^2_t\\\\mathbf{I})\\n$$\\n\\nTo represent $q(\\\\mathbf{z}_t \\\\vert \\\\mathbf{z}_s)$ for $0 \\\\leq s < t \\\\leq T$, we have:\\n\\n$$\\n\\\\begin{aligned}\\n\\\\mathbf{z}_t &= \\\\alpha_t \\\\mathbf{x} + \\\\sigma_t\\\\boldsymbol{\\\\epsilon}_t \\\\\\\\\\n\\\\mathbf{z}_s &= \\\\alpha_s \\\\mathbf{x} + \\\\sigma_s\\\\boldsymbol{\\\\epsilon}_s \\\\\\\\\\n\\\\mathbf{z}_t &= \\\\alpha_t \\\\Big(\\\\frac{\\\\mathbf{z}_s - \\\\sigma_s\\\\boldsymbol{\\\\epsilon}_s}{\\\\alpha_s}\\\\Big) + \\\\sigma_t\\\\boldsymbol{\\\\epsilon}_t \\\\\\\\\\n\\\\mathbf{z}_t &= \\\\frac{\\\\alpha_t}{\\\\alpha_s}\\\\mathbf{z}_s + \\\\sigma_t\\\\boldsymbol{\\\\epsilon}_t - \\\\frac{\\\\alpha_t\\\\sigma_s}{\\\\alpha_s} \\\\boldsymbol{\\\\epsilon}_s \\\\\\\\\\n\\\\text{Thus }q(\\\\mathbf{z}_t \\\\vert \\\\mathbf{z}_s) &= \\\\mathcal{N}\\\\Big(\\\\mathbf{z}_t; \\\\frac{\\\\alpha_t}{\\\\alpha_s}\\\\mathbf{z}_s, \\\\big(1 - \\\\frac{\\\\alpha^2_t\\\\sigma^2_s}{\\\\sigma^2_t\\\\alpha^2_s}\\\\big)\\\\sigma^2_t \\\\mathbf{I}\\\\Big)\\n\\\\end{aligned}\\n$$\\n\\nLet the log signal-to-noise-ratio be $\\\\lambda_t = \\\\log[\\\\alpha^2_t / \\\\sigma^2_t]$, we can represent the DDIM (Song et al. 2020) update as:\\n\\n$$\\nq(\\\\mathbf{z}_t \\\\vert \\\\mathbf{z}_s) = \\\\mathcal{N}\\\\Big(\\\\mathbf{z}_t; \\\\frac{\\\\alpha_t}{\\\\alpha_s}\\\\mathbf{z}_s, \\\\sigma^2_{t\\\\vert s} \\\\mathbf{I}\\\\Big) \\\\quad\\n\\\\text{where }\\\\sigma^2_{t\\\\vert s} = (1 - e^{\\\\lambda_t - \\\\lambda_s})\\\\sigma^2_t\\n$$\\n\\nThere is a special $\\\\mathbf{v}$-prediction ($\\\\mathbf{v} = \\\\alpha_t \\\\boldsymbol{\\\\epsilon} - \\\\sigma_t \\\\mathbf{x}$) parameterization, proposed by Salimans & Ho (2022). It has been shown to be helpful for avoiding color shift in video generation compared to $\\\\boldsymbol{\\\\epsilon}$-parameterization.\\nThe $\\\\mathbf{v}$-parameterization is derived with a trick in the angular coordinate. First, we define $\\\\phi_t = \\\\arctan(\\\\sigma_t / \\\\alpha_t)$ and thus we have $\\\\alpha_\\\\phi = \\\\cos\\\\phi, \\\\sigma_t = \\\\sin\\\\phi, \\\\mathbf{z}_\\\\phi = \\\\cos\\\\phi \\\\mathbf{x} + \\\\sin\\\\phi\\\\boldsymbol{\\\\epsilon}$. The velocity of $\\\\mathbf{z}_\\\\phi$ can be written as:\\n\\n$$\\n\\\\mathbf{v}_\\\\phi = \\\\nabla_\\\\phi \\\\mathbf{z}_\\\\phi = \\\\frac{d\\\\cos\\\\phi}{d\\\\phi} \\\\mathbf{x} + \\\\frac{d\\\\sin\\\\phi}{d\\\\phi}\\\\boldsymbol{\\\\epsilon} = \\\\cos\\\\phi\\\\boldsymbol{\\\\epsilon} -\\\\sin\\\\phi\\\\mathbf{x}\\n$$\\n\\nThen we can infer,\\n\\n$$\\n\\\\begin{aligned}\\n\\\\sin\\\\phi\\\\mathbf{x} \\n&= \\\\cos\\\\phi\\\\boldsymbol{\\\\epsilon}  - \\\\mathbf{v}_\\\\phi \\\\\\\\\\n&= \\\\frac{\\\\cos\\\\phi}{\\\\sin\\\\phi}\\\\big(\\\\mathbf{z}_\\\\phi - \\\\cos\\\\phi\\\\mathbf{x}\\\\big) - \\\\mathbf{v}_\\\\phi \\\\\\\\\\n\\\\sin^2\\\\phi\\\\mathbf{x} \\n&= \\\\cos\\\\phi\\\\mathbf{z}_\\\\phi - \\\\cos^2\\\\phi\\\\mathbf{x} - \\\\sin\\\\phi \\\\mathbf{v}_\\\\phi \\\\\\\\\\n\\\\mathbf{x} &= \\\\cos\\\\phi\\\\mathbf{z}_\\\\phi - \\\\sin\\\\phi\\\\mathbf{v}_\\\\phi \\\\\\\\\\n\\\\text{Similarly }\\n\\\\boldsymbol{\\\\epsilon} &= \\\\sin\\\\phi\\\\mathbf{z}_\\\\phi + \\\\cos\\\\phi \\\\mathbf{v}_\\\\phi\\n\\\\end{aligned}\\n$$\\n\\nThe DDIM update rule is updated accordingly,\\n\\n$$\\n\\\\begin{aligned}\\n\\\\mathbf{z}_{\\\\phi_s} \\n&= \\\\cos\\\\phi_s\\\\hat{\\\\mathbf{x}}_\\\\theta(\\\\mathbf{z}_{\\\\phi_t}) + \\\\sin\\\\phi_s\\\\hat{\\\\epsilon}_\\\\theta(\\\\mathbf{z}_{\\\\phi_t}) \\\\quad\\\\quad{\\\\small \\\\text{; }\\\\hat{\\\\mathbf{x}}_\\\\theta(.), \\\\hat{\\\\epsilon}_\\\\theta(.)\\\\text{ are two models to predict }\\\\mathbf{x}, \\\\boldsymbol{\\\\epsilon}\\\\text{ based on }\\\\mathbf{z}_{\\\\phi_t}}\\\\\\\\\\n&= \\\\cos\\\\phi_s \\\\big( \\\\cos\\\\phi_t \\\\mathbf{z}_{\\\\phi_t} - \\\\sin\\\\phi_t \\\\hat{\\\\mathbf{v}}_\\\\theta(\\\\mathbf{z}_{\\\\phi_t} ) \\\\big) +\\n\\\\sin\\\\phi_s \\\\big( \\\\sin\\\\phi_t \\\\mathbf{z}_{\\\\phi_t} + \\\\cos\\\\phi_t \\\\hat{\\\\mathbf{v}}_\\\\theta(\\\\mathbf{z}_{\\\\phi_t} ) \\\\big) \\\\\\\\\\n&= {\\\\color{red} \\\\big( \\\\cos\\\\phi_s\\\\cos\\\\phi_t + \\\\sin\\\\phi_s\\\\sin\\\\phi_t \\\\big)} \\\\mathbf{z}_{\\\\phi_t} + \\n{\\\\color{green} \\\\big( \\\\sin\\\\phi_s \\\\cos\\\\phi_t - \\\\cos\\\\phi_s \\\\sin\\\\phi_t \\\\big)} \\\\hat{\\\\mathbf{v}}_\\\\theta(\\\\mathbf{z}_{\\\\phi_t} ) \\\\\\\\\\n&= {\\\\color{red} cos(\\\\phi_s - \\\\phi_t)} \\\\mathbf{z}_{\\\\phi_t} +\\n{\\\\color{green} \\\\sin(\\\\phi_s - \\\\phi_t)} \\\\hat{\\\\mathbf{v}}_\\\\theta(\\\\mathbf{z}_{\\\\phi_t}) \\\\quad\\\\quad{\\\\small \\\\text{; trigonometric identity functions.}}\\n\\\\end{aligned}\\n$$\\n\\n\\n\\nVisualizing how the diffusion update step works in the angular coordinate, where DDIM evolves $\\\\mathbf{z}_{\\\\phi_s}$ by moving it along the $-\\\\hat{\\\\mathbf{v}}_{\\\\phi_t}$ direction. (Image source: Salimans & Ho, 2022)\\n\\nThe $\\\\mathbf{v}$-parameterization for the model is to predict $\\\\mathbf{v}_\\\\phi = \\\\cos\\\\phi\\\\boldsymbol{\\\\epsilon} -\\\\sin\\\\phi\\\\mathbf{x} = \\\\alpha_t\\\\boldsymbol{\\\\epsilon} - \\\\sigma_t\\\\mathbf{x}$.\\nIn the case of video generation, we need the diffusion model to run multiple steps of upsampling for extending video length or increasing the frame rate. This requires the capability of sampling a second video $\\\\mathbf{x}^b$ conditioned on the first $\\\\mathbf{x}^a$, $\\\\mathbf{x}^b \\\\sim p_\\\\theta(\\\\mathbf{x}^b \\\\vert \\\\mathbf{x}^a)$, where $\\\\mathbf{x}^b$ might be an autoregressive extension of $\\\\mathbf{x}^a$ or be the missing frames in-between for a video $\\\\mathbf{x}^a$ at a low frame rate.\\nThe sampling of $\\\\mathbf{x}_b$ needs to condition on $\\\\mathbf{x}_a$ besides its own corresponding noisy variable. Video Diffusion Models (VDM; Ho & Salimans, et al. 2022) proposed the reconstruction guidance method using an adjusted denoising model such that the sampling of $\\\\mathbf{x}^b$ can be properly conditioned on $\\\\mathbf{x}^a$:\\n\\n$$\\n\\\\begin{aligned}\\n\\\\mathbb{E}_q [\\\\mathbf{x}_b \\\\vert \\\\mathbf{z}_t, \\\\mathbf{x}^a] &= \\\\mathbb{E}_q [\\\\mathbf{x}^b \\\\vert \\\\mathbf{z}_t] + \\\\frac{\\\\sigma_t^2}{\\\\alpha_t} \\\\nabla_{\\\\mathbf{z}^b_t} \\\\log q(\\\\mathbf{x}^a \\\\vert \\\\mathbf{z}_t) \\\\\\\\\\nq(\\\\mathbf{x}^a \\\\vert \\\\mathbf{z}_t) &\\\\approx \\\\mathcal{N}\\\\big[\\\\hat{\\\\mathbf{x}}^a_\\\\theta (\\\\mathbf{z}_t), \\\\frac{\\\\sigma_t^2}{\\\\alpha_t^2}\\\\mathbf{I}\\\\big] & {\\\\small \\\\text{; the closed form is unknown.}}\\\\\\\\\\n\\\\tilde{\\\\mathbf{x}}^b_\\\\theta (\\\\mathbf{z}_t) &= \\\\hat{\\\\mathbf{x}}^b_\\\\theta (\\\\mathbf{z}_t) - \\\\frac{w_r \\\\alpha_t}{2} \\\\nabla_{\\\\mathbf{z}_t^b} \\\\| \\\\mathbf{x}^a - \\\\hat{\\\\mathbf{x}}^a_\\\\theta (\\\\mathbf{z}_t) \\\\|^2_2 & {\\\\small \\\\text{; an adjusted denoising model for }\\\\mathbf{x}^b}\\n\\\\end{aligned}\\n$$\\n\\nwhere $\\\\hat{\\\\mathbf{x}}^a_\\\\theta (\\\\mathbf{z}_t), \\\\hat{\\\\mathbf{x}}^b_\\\\theta (\\\\mathbf{z}_t)$ are reconstructions of $\\\\mathbf{x}^a, \\\\mathbf{x}^b$ provided by the denoising model. And $w_r$ is a weighting factor and a large one $w_r >1$ is found to improve sample quality. Note that it is also possible to simultaneously condition on low resolution videos to extend samples to be at the high resolution using the same reconstruction guidance method.\\nModel Architecture: 3D U-Net & DiT#\\nSimilar to text-to-image diffusion models, U-net and Transformer are still two common architecture choices. There are a series of diffusion video modeling papers from Google based on the U-net architecture and a recent Sora model from OpenAI leveraged the Transformer architecture.\\nVDM (Ho & Salimans, et al. 2022) adopts the standard diffusion model setup but with an altered architecture suitable for video modeling. It extends the 2D U-net to work for 3D data (Cicek et al. 2016), where each feature map represents a 4D tensor of frames x height x width x channels. This 3D U-net is factorized over space and time, meaning that each layer only operates on the space or time dimension, but not both:\\n\\nProcessing Space:\\n\\nEach old 2D convolution layer as in the 2D U-net is extended to be space-only 3D convolution; precisely, 3x3 convolutions become 1x3x3 convolutions.\\nEach spatial attention block remains as attention over space, where the first axis (frames) is treated as batch dimension.\\n\\n\\nProcessing Time:\\n\\nA temporal attention block is added after each spatial attention block. It performs attention over the first axis (frames) and treats spatial axes as the batch dimension. The relative position embedding is used for tracking the order of frames. The temporal attention block is important for the model to capture good temporal coherence.\\n\\n\\n\\n\\n\\nThe 3D U-net architecture. The noisy video $\\\\mathbf{z}_t$ , conditioning information $\\\\boldsymbol{c}$ and the log signal-to-noise ratio (log-SNR) $\\\\lambda_t$ are inputs to the network. The channel multipliers $M_1, \\\\dots, M_K$ represent the channel counts across layers. (Image source: Salimans & Ho, 2022)\\n\\nImagen Video (Ho, et al. 2022) is constructed on a cascade of diffusion models to enhance the video generation quality and upgrades to output 1280x768 videos at 24 fps. The Imagen Video architecture consists of the following components, counting 7 diffusion models in total.\\n\\nA frozen T5 text encoder to provide text embedding as the conditioning input.\\nA base video diffusion model.\\nA cascade of interleaved spatial and temporal super-resolution diffusion models, including 3 TSR (Temporal Super-Resolution) and 3 SSR (Spatial Super-Resolution) components.\\n\\n\\n\\nThe cascaded sampling pipeline in Imagen Video. In practice, the text embeddings are injected into all components, not just the base model. (Image source: Ho et al. 2022)\\n\\nThe base denoising models performs spatial operations over all the frames with shared parameters simultaneously and then the temporal layer mixes activations across frames to better capture temporal coherence, which is found to work better than frame-autoregressive approaches.\\n\\n\\nThe architecture of one space-time separable block in the Imagen Video diffusion model. (Image source: Ho et al. 2022)\\n\\nBoth SSR and TSR models condition on the upsampled inputs concatenated with noisy data $\\\\mathbf{z}_t$ channel-wise. SSR upsamples by bilinear resizing, while TSR upsamples by repeating the frames or filling in blank frames.\\nImagen Video also applies progressive distillation to speed up sampling and each distillation iteration can reduce the required sampling steps by half. Their experiments were able to distill all 7 video diffusion models down to just 8 sampling steps per model without any noticeable loss in perceptual quality.\\n\\nTo achieve better scaling efforts, Sora (Brooks et al. 2024) leverages DiT (Diffusion Transformer) architecture that operates on spacetime patches of video and image latent codes. Visual input is represented as a sequence of spacetime patches which act as Transformer input tokens.\\n\\n\\nSora is a diffusion transformer model.(Image source: Brooks et al. 2024)\\n\\nAdapting Image Models to Generate Videos#\\nAnother prominent approach for diffusion video modeling is to “inflate” a pre-trained image-to-text diffusion model by inserting temporal layers and then we can choose to only fine-tune new layers on video data, or avoid extra training at all. The prior knowledge of text-image pairs is inherited by the new model and thus it can help alleviate the requirement on text-video pair data.\\nFine-tuning on Video Data#\\nMake-A-Video (Singer et al. 2022) extends a pre-trained diffusion image model with a temporal dimension, consisting of three key components:\\n\\nA base text-to-image model trained on text-image pair data.\\nSpatiotemporal convolution and attention layers to extend the network to cover temporal dimension.\\nA frame interpolation network for high frame rate generation\\n\\n\\n\\nThe illustration of Make-A-Video pipeline.(Image source: Singer et al. 2022)\\n\\nThe final video inference scheme can be formulated as:\\n\\n$$\\n\\\\hat{\\\\mathbf{y}}_t = \\\\text{SR}_h \\\\circ \\\\text{SR}^t_l \\\\circ \\\\uparrow_F \\\\circ D^t \\\\circ P \\\\circ (\\\\hat{\\\\mathbf{x}}, \\\\text{CLIP}_\\\\text{text}(\\\\mathbf{x}))\\n$$\\n\\nwhere:\\n\\n$\\\\mathbf{x}$ is the input text.\\n$\\\\hat{\\\\mathbf{x}}$ is the BPE-encoded text.\\n$\\\\text{CLIP}_\\\\text{text}(.)$ is the CLIP text encoder, $\\\\mathbf{x}_e = \\\\text{CLIP}_\\\\text{text}(\\\\mathbf{x})$.\\n$P(.)$ is the prior, generating image embedding $\\\\mathbf{y}_e$ given text embedding $\\\\mathbf{x}_e$ and BPE encoded text $\\\\hat{\\\\mathbf{x}}$ : $\\\\mathbf{y}_e = P(\\\\mathbf{x}_e, \\\\hat{\\\\mathbf{x}})$. This part is trained on text-image pair data and not fine-tuned on video data.\\n$D^t(.)$ is the spatiotemporal decoder that generates a series of 16 frames, where each frame is a low-resolution 64x64 RGB image $\\\\hat{\\\\mathbf{y}}_l$.\\n$\\\\uparrow_F(.)$ is the frame interpolation network, increasing the effective frame rate by interpolating between generated frames. This is a fine-tuned model for the task of predicting masked frames for video upsampling.\\n$\\\\text{SR}_h(.), \\\\text{SR}^t_l(.)$ are the spatial and spatiotemporal super-resolution models, increasing the image resolution to 256x256 and 768x768, respectively.\\n$\\\\hat{\\\\mathbf{y}}_t$ is the final generated video.\\n\\nSpatiotemporal SR layers contain pseudo-3D convo layers and pseudo-3D attention layers:\\n\\nPseudo-3D convo layer : Each spatial 2D convo layer (initialized from the pre-training image model) is followed by a temporal 1D layer (initialized as the identity function). Conceptually, the convo 2D layer first generates multiple frames and then frames are reshaped to be a video clip.\\nPseudo-3D attention layer: Following each (pre-trained) spatial attention layer, a temporal attention layer is stacked and used to approximate a full spatiotemporal attention layer.\\n\\n\\n\\nHow pseudo-3D convolution (left) and attention (right) layers work.(Image source: Singer et al. 2022)\\n\\nThey can be represented as:\\n\\n$$\\n\\\\begin{aligned}\\n\\\\text{Conv}_\\\\text{P3D} &= \\\\text{Conv}_\\\\text{1D}(\\\\text{Conv}_\\\\text{2D}(\\\\mathbf{h}) \\\\circ T) \\\\circ T \\\\\\\\\\n\\\\text{Attn}_\\\\text{P3D} &= \\\\text{flatten}^{-1}(\\\\text{Attn}_\\\\text{1D}(\\\\text{Attn}_\\\\text{2D}(\\\\text{flatten}(\\\\mathbf{h})) \\\\circ T) \\\\circ T)\\n\\\\end{aligned}\\n$$\\n\\nwhere an input tensor $\\\\mathbf{h} \\\\in \\\\mathbb{R}^{B\\\\times C \\\\times F \\\\times H \\\\times W}$  (corresponding to batch size, channels, frames, height and weight); and $\\\\circ T$ swaps between temporal and spatial dimensions; $\\\\text{flatten}(.)$ is a matrix operator to convert $\\\\mathbf{h}$ to be $\\\\mathbf{h}’ \\\\in \\\\mathbb{R}^{B \\\\times C \\\\times F \\\\times HW}$ and $\\\\text{flatten}^{-1}(.)$ reverses that process.\\nDuring training, different components of Make-A-Video pipeline are trained independently.\\n\\nDecoder $D^t$, prior $P$ and two super-resolution components $\\\\text{SR}_h, \\\\text{SR}^t_l$ are first trained on images alone, without paired text.\\nNext the new temporal layers are added, initialized as identity function, and then fine-tuned on unlabeled video data.\\n\\nTune-A-Video (Wu et al. 2023) inflates a pre-trained image diffusion model to enable one-shot video tuning: Given a video containing $m$ frames, $\\\\mathcal{V} = \\\\{v_i \\\\mid i = 1, \\\\dots, m\\\\}$, paired with a descriptive prompt $\\\\tau$, the task is to generate a new video $\\\\mathcal{V}^*$ based on a slightly edited & related text prompt $\\\\tau^*$. For example, $\\\\tau$ = \"A man is skiing\" can be extended to $\\\\tau^*$=\"Spiderman is skiing on the beach\". Tune-A-Video is meant to be used for object editing, background change, and style transfer.\\nBesides inflating the 2D convo layer, the U-Net architecture of Tune-A-Video incorporates the ST-Attention (spatiotemporal attention) block to capture temporal consistency by querying relevant positions in previous frames. Given latent features of frame $v_i$, previous frames $v_{i-1}$ and the first frame $v_1$ are projected to query $\\\\mathbf{Q}$, key $\\\\mathbf{K}$ and value $\\\\mathbf{V}$, the ST-attention is defined as:\\n\\n$$\\n\\\\begin{aligned}\\n&\\\\mathbf{Q} = \\\\mathbf{W}^Q \\\\mathbf{z}_{v_i}, \\\\quad \\\\mathbf{K} = \\\\mathbf{W}^K [\\\\mathbf{z}_{v_1}, \\\\mathbf{z}_{v_{i-1}}], \\\\quad \\\\mathbf{V} = \\\\mathbf{W}^V [\\\\mathbf{z}_{v_1}, \\\\mathbf{z}_{v_{i-1}}] \\\\\\\\\\n&\\\\mathbf{O} = \\\\text{softmax}\\\\Big(\\\\frac{\\\\mathbf{Q} \\\\mathbf{K}^\\\\top}{\\\\sqrt{d}}\\\\Big) \\\\cdot \\\\mathbf{V}\\n\\\\end{aligned}\\n$$\\n\\n\\n\\nThe Tune-A-Video architecture overview. It first runs a light-weighted fine-tuning stage on a single video before the sampling stage. Note that the entire temporal self-attention (T-Attn) layers get fine-tuned because they are newly added, but only query projections in ST-Attn and Cross-Attn are updated during fine-tuning to preserve prior text-to-image knowledge. ST-Attn improves spatial-temporal consistency, Cross-Attn refines text-video alignment. (Image source: Wu et al. 2023)\\n\\nGen-1 model  (Esser et al. 2023) by Runway targets the task of editing a given video according to text inputs. It decomposes the consideration of structure and content of a video $p(\\\\mathbf{x} \\\\mid s, c)$ for generation conditioning. However, to do a clear decomposition of these two aspects is not easy.\\n\\nContent $c$ refers to appearance and semantics of the video, that is sampled from the text for conditional editing. CLIP embedding of the frame is a good representation of content, and stays largely orthogonal to structure traits.\\nStructure $s$ depicts greometry and dynamics, including shapes, locations, temporal changes of objects, and $s$ is sampled from the input video. Depth estimation or other task-specific side information (e.g. human body pose or face landmarks for human video synthesis) can be used.\\n\\nThe architecture changes in Gen-1 are quite standard, i.e. adding 1D temporal convo layer after each 2D spatial convo layer in its residual blocks and adding 1D temporal attention block after each 2D spatial attention block in its attention blocks. During training, the structure variable $s$ is concatenated with the diffusion latent variable $\\\\mathbf{z}$, where the content variable $c$ is provided in the cross-attention layer. At inference time, the clip embedding is converted via a prior to convert CLIP text embedding to be CLIP image embedding.\\n\\n\\nThe overview of the Gen-1 model training pipeline.(Image source: Esser et al. 2023)\\n\\nVideo LDM (Blattmann et al. 2023) trains a LDM (Latent diffusion models) image generator first. Then the model is fine-tuned to produce videos with a temporal dimension added. The fine-tuning only applies to these newly added temporal layers on encoded image sequences. The temporal layers $\\\\{l^i_\\\\phi \\\\mid i = \\\\ 1, \\\\dots, L\\\\}$ in the Video LDM (See Fig. 10) are interleaved with existing spatial layers $l^i_\\\\theta$ which stays frozen during fine-tuning. That’s being said, we only fine-tune the new parameters $\\\\phi$ but not the pre-trained image backbone model parameters $\\\\theta$. The pipeline of Video LDM first generates key frames at low fps and then processes through 2 steps of latent frame interpolations to increase fps.\\nThe input sequence of length $T$ is interpreted as a batch of images (i.e. $B \\\\cdot T$) for the base image model $\\\\theta$ and then gets reshaped into video format for $l^i_\\\\phi$ temporal layers. There is a skip connection leads to a combination of temporal layer output $\\\\mathbf{z}’$ and the spatial output $\\\\mathbf{z}$ via a learned merging parameter $\\\\alpha$. There are two types of temporal mixing layers implemented in practice: (1) temporal attention and (2) residual blocks based on 3D convolutions.\\n\\n\\nA pre-training LDM for image synthesis is extended to be a video generator. $B, T, C, H, W$ are batch size, sequence length, channels, height and width, respectively. $\\\\mathbf{c}_S$ is an optional conditioning/context frame. (Image source: Blattmann et al. 2023)\\n\\nHowever, there is a remaining issue with LDM’s pretrainined autoencoder which only sees images never videos. Naively using that for video generation can cause flickering artifacts without good temporal coherence. So Video LDM adds additional temporal layers into the decoder and fine-tuned on video data with a patch-wise temporal discriminator built from 3D convolutions, while the encoder remains unchanged so that we still can reuse the pretrained LDM. During temporal decoder fine-tuning, the frozen encoder processes each frame in the video independently, and enforce temporally coherent reconstructions across frames with a video-aware discriminator.\\n\\n\\nThe training pipeline of autoencoder in video latent diffusion models. The decoder is fine-tuned to have temporal coherency with a new across-frame discriminator while the encoder stays frozen. (Image source: Blattmann et al. 2023)\\n\\nSimilar to Video LDM, the architecture design of Stable Video Diffusion (SVD; Blattmann et al. 2023) is also based on LDM with temporal layers inserted after every spatial convolution and attention layer, but SVD fine-tunes the entire model. There are three stages for training video LDMs:\\n\\nText-to-image pretraining is important and helps improve both quality and prompt following.\\nVideo pretraining is beneficial to be separated and should ideally occur on a larger scale, curated dataset.\\nHigh-quality video finetuning works with a smaller, pre-captioned video of high visual fidelity.\\n\\nSVD specially emphasizes the critical role of dataset curation in model performance. They applied a cut detection pipeline to get more cuts per video and then applied three different captioner models: (1) CoCa for mid-frame, (2) V-BLIP for a video caption, and (3) LLM based captioning based on previous two captions. Then they were able to continue to improve video datasets, by removing clips with less motion (filtered by low optical flow scores calculated at 2 fps), excessive text presence (apply optical character recognition to identify videos with lots of text), or generally low aesthetic value (annotate the first, middle, and last frames of each clip with CLIP embeddings and calculate aesthetics scores & text-image similarities). The experiments showed that a filtered, higher quality dataset leads to better model quality, even when this dataset is much smaller.\\nThe key challenge of generating distant key frames first and then adding interpolation with temporal super-resolution is how to maintain high-quality temporal consistency. Lumiere (Bar-Tal et al. 2024) instead adopts a space-time U-Net (STUNet) architecture that generates the entire temporal duration of the video at once through a single pass, removing the dependency on TSR (temporal super-resolution) components. STUNet downsamples the video in both time and space dimensions and thus expensive computation happens in a compact time-space latent space.\\n\\n\\nLumiere removes TSR (temporal super-resolution) models. The inflated SSR network can operate only on short segments of the video due to memory constraints and thus SSR models operate on a set of shorter but overlapped video snippets. (Image source: Bar-Tal et al. 2024)\\n\\nSTUNet inflates a pretrained text-to-image U-net to be able to downsample and upsample videos at both time and space dimensions. Convo-based blocks consist of pre-trained text-to-image layers, followed by a factorized space-time convolution. And attention-based blocks at the coarsest U-Net level contains the pre-trained text-to-image, followed by temporal attention. Further training only happens with the newly added layers.\\n\\n\\nThe architecture of (a) Space-Time U-Net (STUNet), (b) the convolution-based block, and (c) the attention-based block. (Image source: Bar-Tal et al. 2024)\\n\\n\\nTraining-Free Adaptation#\\nSomehow surprisingly, it is possible to adapt a pre-trained text-to-image model to output videos without any training 🤯.\\nIf we naively sample a sequence of latent codes at random and then construct a video of decoded corresponding images, there is no guarantee in the consistency in objects and semantics in time. Text2Video-Zero (Khachatryan et al. 2023) enables zero-shot, training-free video generation by enhancing a pre-trained image diffusion model with two key mechanisms for temporal consistency:\\n\\nSampling the sequence of latent codes with motion dynamics to keep the global scene and the background time consistent;\\nReprogramming frame-level self-attention using a new cross-frame attention of each frame on the first frame, to preserve the context, appearance, and identity of the foreground object.\\n\\n\\n\\nAn overview of the Text2Video-Zero pipeline. (Image source: Khachatryan et al. 2023)\\n\\nThe process of sampling a sequence of latent variables, $\\\\mathbf{x}^1_T, \\\\dots, \\\\mathbf{x}^m_T$, with motion information is described as follows:\\n\\nDefine a direction $\\\\boldsymbol{\\\\delta} = (\\\\delta_x, \\\\delta_y) \\\\in \\\\mathbb{R}^2$ for controlling the global scene and camera motion; by default, we set $\\\\boldsymbol{\\\\delta} = (1, 1)$. Also define a hyperparameter $\\\\lambda > 0$ controlling the amount of global motion.\\nFirst sample the latent code of the first frame at random, $\\\\mathbf{x}^1_T \\\\sim \\\\mathcal{N}(0, I)$;\\nPerform $\\\\Delta t \\\\geq 0$ DDIM backward update steps using the pre-trained image diffusion model, e.g. Stable Diffusion (SD) model in the paper, and obtain the corresponding latent code $\\\\mathbf{x}^1_{T’}$ where $T’ = T - \\\\Delta t$.\\nFor each frame in the latent code sequence, we apply corresponding motion translation with a warping operation defined by $\\\\boldsymbol{\\\\delta}^k = \\\\lambda(k-1)\\\\boldsymbol{\\\\delta}$ to obtain $\\\\tilde{\\\\mathbf{x}}^k_{T’}$.\\nFinally apply DDIM forward steps to all $\\\\tilde{\\\\mathbf{x}}^{2:m}_{T’}$ to obtain $\\\\mathbf{x}^{2:m}_T$.\\n\\n\\n$$\\n\\\\begin{aligned}\\n\\\\mathbf{x}^1_{T\\'} &= \\\\text{DDIM-backward}(\\\\mathbf{x}^1_T, \\\\Delta t)\\\\text{ where }T\\' = T - \\\\Delta t \\\\\\\\\\nW_k &\\\\gets \\\\text{a warping operation of }\\\\boldsymbol{\\\\delta}^k = \\\\lambda(k-1)\\\\boldsymbol{\\\\delta} \\\\\\\\\\n\\\\tilde{\\\\mathbf{x}}^k_{T\\'} &= W_k(\\\\mathbf{x}^1_{T\\'})\\\\\\\\\\n\\\\mathbf{x}^k_T &= \\\\text{DDIM-forward}(\\\\tilde{\\\\mathbf{x}}^k_{T\\'}, \\\\Delta t)\\\\text{ for }k=2, \\\\dots, m\\n\\\\end{aligned}\\n$$\\n\\nBesides, Text2Video-Zero replaces the self-attention layer in a pre-trained SD model with a new cross-frame attention mechanism with reference to the first frame. The motivation is to preserve the information about the foreground object’s appearance, shape, and identity throughout the generated video.\\n \\n$$\\n\\\\text{Cross-Frame-Attn}(\\\\mathbf{Q}^k, \\\\mathbf{K}^{1:m}, \\\\mathbf{V}^{1:m}) = \\\\text{Softmax}\\\\Big( \\\\frac{\\\\mathbf{Q}^k (\\\\mathbf{K}^1)^\\\\top}{\\\\sqrt{c}} \\\\Big) \\\\mathbf{V}^1\\n$$\\n\\nOptionally, the background mask can be used to further smoothen and improve background consistency. Let’s say, we obtain a corresponding foreground mask $\\\\mathbf{M}_k$ for the $k$-th frame using some existing method, and background smoothing merges the actual and the warped latent code at the diffusion step $t$, w.r.t. the background matrix:\\n \\n$$\\n\\\\bar{\\\\mathbf{x}}^k_t = \\\\mathbf{M}^k \\\\odot \\\\mathbf{x}^k_t + (1 − \\\\mathbf{M}^k) \\\\odot (\\\\alpha\\\\tilde{\\\\mathbf{x}}^k_t +(1−\\\\alpha)\\\\mathbf{x}^k_t)\\\\quad\\\\text{for }k=1, \\\\dots, m\\n$$\\n\\nwhere $\\\\mathbf{x}^k_t$ is the actual latent code and $\\\\tilde{\\\\mathbf{x}}^k_t$ is the warped latent code on the background; $\\\\alpha$ is a hyperparameter and the papers set $\\\\alpha=0.6$ in the experiments.\\nText2video-zero can be combined with ControlNet where the ControlNet pretrained copy branch is applied per frame on each $\\\\mathbf{x}^k_t$ for $k = 1, \\\\dots, m$ in each diffusion time-step $t = T , \\\\dots, 1$ and add the ControlNet branch outputs to the skip-connections of the main U-net.\\nControlVideo (Zhang et al. 2023) aims to generate videos conditioned on text prompt $\\\\tau$ and a motion sequence (e.g., depth or edge maps), $\\\\mathbf{c} = \\\\{c^i\\\\}_{i=0}^{N-1}$. It is adapted from ControlNet with three new mechanisms added:\\n\\nCross-frame attention: Adds fully cross-frame interaction in self-attention modules. It introduces interactions between all the frames, by mapping the latent frames at all the time steps into $\\\\mathbf{Q}, \\\\mathbf{K}, \\\\mathbf{V}$ matrices, different from Text2Video-zero which only configures all the frames to attend to the first frame.\\nInterleaved-frame smoother is a mechanism to employ frame interpolation on alternated frames to reduce the flickering effect. At each time step $t$, the smoother interpolates the even or odd frames to smooth their corresponding three-frame clips. Note that the number of frames decreases in time after smoothing steps.\\nHierarchical sampler utilizes a hierarchical sampler to enable long videos with time consistency under memory constraints. A long video is split into multiple short clips and each has a key frame selected. The model pre-generates these keyframes with full cross-frame attention for long-term coherency and each corresponding short clip is synthesized sequentially conditioned on the keyframes.\\n\\n\\n\\nThe overview of ControlVideo. (Image source: Zhang et al. 2023)\\n\\nCitation#\\nCited as:\\n\\nWeng, Lilian. (Apr 2024). Diffusion Models Video Generation. Lil’Log. https://lilianweng.github.io/posts/2024-04-12-diffusion-video/.\\n\\nOr\\n@article{weng2024video,\\n  title   = \"Diffusion Models Video Generation.\",\\n  author  = \"Weng, Lilian\",\\n  journal = \"lilianweng.github.io\",\\n  year    = \"2024\",\\n  month   = \"Apr\",\\n  url     = \"https://lilianweng.github.io/posts/2024-04-12-diffusion-video/\"\\n}\\nReferences#\\n[1] Cicek et al. 2016. “3D U-Net: Learning Dense Volumetric Segmentation from Sparse Annotation.”\\n[2] Ho & Salimans, et al. “Video Diffusion Models.” 2022 | webpage\\n[3] Bar-Tal et al. 2024 “Lumiere: A Space-Time Diffusion Model for Video Generation.”\\n[4] Brooks et al. “Video generation models as world simulators.” OpenAI Blog, 2024.\\n[5] Zhang et al. 2023 “ControlVideo: Training-free Controllable Text-to-Video Generation.”\\n[6] Khachatryan et al. 2023 “Text2Video-Zero: Text-to-image diffusion models are zero-shot video generators.”\\n[7] Ho, et al. 2022 “Imagen Video: High Definition Video Generation with Diffusion Models.”\\n[8] Singer et al. “Make-A-Video: Text-to-Video Generation without Text-Video Data.” 2022.\\n[9] Wu et al. “Tune-A-Video: One-Shot Tuning of Image Diffusion Models for Text-to-Video Generation.” ICCV 2023.\\n[10] Blattmann et al. 2023 “Align your Latents: High-Resolution Video Synthesis with Latent Diffusion Models.”\\n[11] Blattmann et al. 2023 “Stable Video Diffusion: Scaling Latent Video Diffusion Models to Large Datasets.”\\n[12] Esser et al. 2023 “Structure and Content-Guided Video Synthesis with Diffusion Models.”\\n[13] Bar-Tal et al. 2024 “Lumiere: A Space-Time Diffusion Model for Video Generation.”\\n')]"
      ]
     },
     "execution_count": 69,
     "metadata": {},
     "output_type": "execute_result"
    }
   ],
   "source": [
    "docs"
   ]
  },
  {
   "cell_type": "code",
   "execution_count": 70,
   "id": "1c045d69",
   "metadata": {},
   "outputs": [
    {
     "data": {
      "text/plain": [
       "VectorStoreRetriever(tags=['Chroma', 'HuggingFaceEmbeddings'], vectorstore=<langchain_chroma.vectorstores.Chroma object at 0x0000017E258D34D0>, search_kwargs={})"
      ]
     },
     "execution_count": 70,
     "metadata": {},
     "output_type": "execute_result"
    }
   ],
   "source": [
    "text_splitter = RecursiveCharacterTextSplitter(chunk_size=1000, chunk_overlap=200)\n",
    "splits = text_splitter.split_documents(docs)\n",
    "\n",
    "vectorstore = Chroma.from_documents(documents=splits, embedding=embeddings)\n",
    "retriever = vectorstore.as_retriever()\n",
    "retriever\n",
    "\n"
   ]
  },
  {
   "cell_type": "code",
   "execution_count": 71,
   "id": "ca171875",
   "metadata": {},
   "outputs": [],
   "source": [
    "system_prompt = (\n",
    "    \"You are a highly capable AI assistant specializing in answering questions based on provided context.\"\n",
    "    \"Use only the given context to answer the question, and do not rely on prior knowledge or assumptions.\"\n",
    "    \"If the answer is not present in the context, clearly state, 'I don\\'t know.'\"\n",
    "    \"Keep your response concise, limited to a maximum of three sentences, and ensure clarity and relevance to the question.\"\n",
    "    \"\\n\\n\"\n",
    "    \"{context}\"\n",
    ")\n",
    "\n",
    "prompt = ChatPromptTemplate.from_messages(\n",
    "    [\n",
    "        (\"system\", system_prompt),\n",
    "        (\"human\", \"{input}\"),\n",
    "    ]\n",
    ")"
   ]
  },
  {
   "cell_type": "code",
   "execution_count": 72,
   "id": "fb5031a4",
   "metadata": {},
   "outputs": [],
   "source": [
    "question_answer_chain = create_stuff_documents_chain(llm, prompt)\n",
    "rag_chain = create_retrieval_chain(retriever, question_answer_chain)\n"
   ]
  },
  {
   "cell_type": "code",
   "execution_count": 73,
   "id": "bc71b3c2",
   "metadata": {},
   "outputs": [
    {
     "data": {
      "text/plain": [
       "{'input': 'In the case of video generation, we need the diffusion model for which purpose?',\n",
       " 'context': [Document(id='355d8af2-b0b7-4a35-8256-451e3521dd19', metadata={'source': 'https://lilianweng.github.io/posts/2024-04-12-diffusion-video/'}, page_content='Diffusion Models for Video Generation\\n    \\nDate: April 12, 2024  |  Estimated Reading Time: 20 min  |  Author: Lilian Weng\\n\\n\\nDiffusion models have demonstrated strong results on image synthesis in past years. Now the research community has started working on a harder task—using it for video generation. The task itself is a superset of the image case, since an image is a video of 1 frame, and it is much more challenging because:\\n\\nIt has extra requirements on temporal consistency across frames in time, which naturally demands more world knowledge to be encoded into the model.\\nIn comparison to text or images, it is more difficult to collect large amounts of high-quality, high-dimensional video data, let along text-video pairs.\\n\\n\\n\\n🥑 Required Pre-read: Please make sure you have read the previous blog on “What are Diffusion Models?” for image generation before continue here.'),\n",
       "  Document(id='b4115ce7-f450-4030-bd06-0aef59d62d6c', metadata={'source': 'https://lilianweng.github.io/posts/2024-04-12-diffusion-video/'}, page_content='Diffusion Models for Video Generation\\n    \\nDate: April 12, 2024  |  Estimated Reading Time: 20 min  |  Author: Lilian Weng\\n\\n\\nDiffusion models have demonstrated strong results on image synthesis in past years. Now the research community has started working on a harder task—using it for video generation. The task itself is a superset of the image case, since an image is a video of 1 frame, and it is much more challenging because:\\n\\nIt has extra requirements on temporal consistency across frames in time, which naturally demands more world knowledge to be encoded into the model.\\nIn comparison to text or images, it is more difficult to collect large amounts of high-quality, high-dimensional video data, let along text-video pairs.\\n\\n\\n\\n🥑 Required Pre-read: Please make sure you have read the previous blog on “What are Diffusion Models?” for image generation before continue here.'),\n",
       "  Document(id='13e39702-e7b3-46f3-b3b3-8d713c28b792', metadata={'source': 'https://lilianweng.github.io/posts/2024-04-12-diffusion-video/'}, page_content='Diffusion Models for Video Generation\\n    \\nDate: April 12, 2024  |  Estimated Reading Time: 20 min  |  Author: Lilian Weng\\n\\n\\nDiffusion models have demonstrated strong results on image synthesis in past years. Now the research community has started working on a harder task—using it for video generation. The task itself is a superset of the image case, since an image is a video of 1 frame, and it is much more challenging because:\\n\\nIt has extra requirements on temporal consistency across frames in time, which naturally demands more world knowledge to be encoded into the model.\\nIn comparison to text or images, it is more difficult to collect large amounts of high-quality, high-dimensional video data, let along text-video pairs.\\n\\n\\n\\n🥑 Required Pre-read: Please make sure you have read the previous blog on “What are Diffusion Models?” for image generation before continue here.'),\n",
       "  Document(id='e1b6758f-15ae-461d-a438-963af439beaf', metadata={'source': 'https://lilianweng.github.io/posts/2024-04-12-diffusion-video/'}, page_content='Diffusion Models for Video Generation\\n    \\nDate: April 12, 2024  |  Estimated Reading Time: 20 min  |  Author: Lilian Weng\\n\\n\\nDiffusion models have demonstrated strong results on image synthesis in past years. Now the research community has started working on a harder task—using it for video generation. The task itself is a superset of the image case, since an image is a video of 1 frame, and it is much more challenging because:\\n\\nIt has extra requirements on temporal consistency across frames in time, which naturally demands more world knowledge to be encoded into the model.\\nIn comparison to text or images, it is more difficult to collect large amounts of high-quality, high-dimensional video data, let along text-video pairs.\\n\\n\\n\\n🥑 Required Pre-read: Please make sure you have read the previous blog on “What are Diffusion Models?” for image generation before continue here.')],\n",
       " 'answer': 'According to the provided context, the diffusion model is needed for video generation, which is a \"harder task\" compared to image synthesis, due to the extra requirements on temporal consistency across frames in time and the difficulty of collecting large amounts of high-quality, high-dimensional video data.'}"
      ]
     },
     "execution_count": 73,
     "metadata": {},
     "output_type": "execute_result"
    }
   ],
   "source": [
    "response = rag_chain.invoke({\"input\": \"In the case of video generation, we need the diffusion model for which purpose?\"})\n",
    "response\n"
   ]
  },
  {
   "cell_type": "code",
   "execution_count": 74,
   "id": "8d456a3a",
   "metadata": {},
   "outputs": [
    {
     "data": {
      "text/plain": [
       "'According to the provided context, the diffusion model is needed for video generation, which is a \"harder task\" compared to image synthesis, due to the extra requirements on temporal consistency across frames in time and the difficulty of collecting large amounts of high-quality, high-dimensional video data.'"
      ]
     },
     "execution_count": 74,
     "metadata": {},
     "output_type": "execute_result"
    }
   ],
   "source": [
    "response[\"answer\"]"
   ]
  },
  {
   "cell_type": "markdown",
   "id": "fb4fa8bb",
   "metadata": {},
   "source": [
    "#adding chat history"
   ]
  },
  {
   "cell_type": "code",
   "execution_count": 75,
   "id": "97d4b3a6",
   "metadata": {},
   "outputs": [],
   "source": [
    "from langchain.chains import create_history_aware_retriever\n",
    "from langchain_core.prompts import MessagesPlaceholder"
   ]
  },
  {
   "cell_type": "code",
   "execution_count": 76,
   "id": "9b1e162b",
   "metadata": {},
   "outputs": [],
   "source": [
    "contextualize_q_system_prompt = (\n",
    "    \"You are a question reformulation assistant. Given a chat history and the latest user question, your task is to reformulate the latest user question into a standalone question that can be understood without any reference to the previous conversation.If the question already makes complete sense on its own, return it as is. Do not answer the question. Your task is only to reformulate the question if necessary.\"\n",
    ")\n",
    "\n",
    "contextualize_q_prompt = ChatPromptTemplate.from_messages(\n",
    "    [\n",
    "        (\"system\", contextualize_q_system_prompt),\n",
    "        (MessagesPlaceholder(\"chat_history\")),\n",
    "        (\"human\", \"{input}\"),\n",
    "    ]\n",
    ")\n",
    "\n",
    "\n"
   ]
  },
  {
   "cell_type": "code",
   "execution_count": 77,
   "id": "a666e78e",
   "metadata": {},
   "outputs": [],
   "source": [
    "qa_prompt = ChatPromptTemplate.from_messages(\n",
    "    [\n",
    "        (\"system\", system_prompt),\n",
    "        MessagesPlaceholder(\"chat_history\"),\n",
    "        (\"human\", \"{input}\"),\n",
    "    ]\n",
    ")"
   ]
  },
  {
   "cell_type": "code",
   "execution_count": 78,
   "id": "71b9085f",
   "metadata": {},
   "outputs": [],
   "source": [
    "question_answer_chain = create_stuff_documents_chain(llm, qa_prompt)\n",
    "\n",
    "rag_chain = create_retrieval_chain(retriever, question_answer_chain)\n"
   ]
  },
  {
   "cell_type": "code",
   "execution_count": 79,
   "id": "02c0293d",
   "metadata": {},
   "outputs": [
    {
     "name": "stdout",
     "output_type": "stream",
     "text": [
      "{'input': 'Tell me more about it', 'chat_history': [HumanMessage(content='What is the use of base denoising models?', additional_kwargs={}, response_metadata={}), AIMessage(content='According to the context, the base denoising models perform spatial operations over all the frames with shared parameters simultaneously and then the temporal layer mixes activations across frames to better capture temporal coherence.', additional_kwargs={}, response_metadata={})], 'context': [Document(id='721f8b38-a5ef-4b75-a419-24b2ce3868c4', metadata={'source': 'https://lilianweng.github.io/posts/2024-04-12-diffusion-video/'}, page_content='Visualizing how the diffusion update step works in the angular coordinate, where DDIM evolves $\\\\mathbf{z}_{\\\\phi_s}$ by moving it along the $-\\\\hat{\\\\mathbf{v}}_{\\\\phi_t}$ direction. (Image source: Salimans & Ho, 2022)'), Document(id='1fc50a00-e172-4c9d-a670-79381e614ce0', metadata={'source': 'https://lilianweng.github.io/posts/2024-04-12-diffusion-video/'}, page_content='Visualizing how the diffusion update step works in the angular coordinate, where DDIM evolves $\\\\mathbf{z}_{\\\\phi_s}$ by moving it along the $-\\\\hat{\\\\mathbf{v}}_{\\\\phi_t}$ direction. (Image source: Salimans & Ho, 2022)'), Document(id='90115c2d-aeb6-4921-95b2-00ec9bf01ab7', metadata={'source': 'https://lilianweng.github.io/posts/2024-04-12-diffusion-video/'}, page_content='Visualizing how the diffusion update step works in the angular coordinate, where DDIM evolves $\\\\mathbf{z}_{\\\\phi_s}$ by moving it along the $-\\\\hat{\\\\mathbf{v}}_{\\\\phi_t}$ direction. (Image source: Salimans & Ho, 2022)'), Document(id='e785b4f9-cae5-40c5-bf82-1080d229d195', metadata={'source': 'https://lilianweng.github.io/posts/2024-04-12-diffusion-video/'}, page_content='Visualizing how the diffusion update step works in the angular coordinate, where DDIM evolves $\\\\mathbf{z}_{\\\\phi_s}$ by moving it along the $-\\\\hat{\\\\mathbf{v}}_{\\\\phi_t}$ direction. (Image source: Salimans & Ho, 2022)')], 'answer': 'I apologize, but the provided context does not contain any information about the use of base denoising models. The context only provides a visualization of the diffusion update step in the angular coordinate for DDIM (Denoising Diffusion Implicit Model) and references Salimans & Ho, 2022.'}\n"
     ]
    }
   ],
   "source": [
    "from langchain_core.messages import AIMessage, HumanMessage\n",
    "\n",
    "chat_history = []\n",
    "\n",
    "question = \"What is the use of base denoising models?\"\n",
    "response1 = rag_chain.invoke({\"input\": question, \"chat_history\": chat_history})\n",
    "\n",
    "chat_history.extend(\n",
    "    [\n",
    "        HumanMessage(content=question),\n",
    "        AIMessage(content=response1[\"answer\"])\n",
    "    ]\n",
    ")\n",
    "\n",
    "question2 = \"Tell me more about it\"\n",
    "response2 = rag_chain.invoke({\"input\": question2, \"chat_history\": chat_history})\n",
    "print(response2)"
   ]
  },
  {
   "cell_type": "code",
   "execution_count": 80,
   "id": "63f03b35",
   "metadata": {},
   "outputs": [
    {
     "data": {
      "text/plain": [
       "[HumanMessage(content='What is the use of base denoising models?', additional_kwargs={}, response_metadata={}),\n",
       " AIMessage(content='According to the context, the base denoising models perform spatial operations over all the frames with shared parameters simultaneously and then the temporal layer mixes activations across frames to better capture temporal coherence.', additional_kwargs={}, response_metadata={})]"
      ]
     },
     "execution_count": 80,
     "metadata": {},
     "output_type": "execute_result"
    }
   ],
   "source": [
    "chat_history"
   ]
  },
  {
   "cell_type": "code",
   "execution_count": 81,
   "id": "bef85a37",
   "metadata": {},
   "outputs": [],
   "source": [
    "from langchain_community.chat_message_histories import ChatMessageHistory\n",
    "from langchain_core.chat_history import BaseChatMessageHistory\n",
    "from langchain_core.runnables.history import RunnableWithMessageHistory"
   ]
  },
  {
   "cell_type": "code",
   "execution_count": 83,
   "id": "fee81fa7",
   "metadata": {},
   "outputs": [],
   "source": [
    "store = {}\n",
    "\n",
    "def get_session_history(session_id: str) -> BaseChatMessageHistory:\n",
    "    if session_id not in store:\n",
    "        store[session_id] = ChatMessageHistory()\n",
    "    return store[session_id]\n",
    "\n",
    "conversational_rag_chain = RunnableWithMessageHistory(\n",
    "    rag_chain,\n",
    "    get_session_history,\n",
    "    input_messages_key=\"input\",\n",
    "    history_messages_key=\"chat_history\",\n",
    "    output_messages_key=\"answer\",\n",
    ")\n"
   ]
  },
  {
   "cell_type": "code",
   "execution_count": 88,
   "id": "7f0d8a02",
   "metadata": {},
   "outputs": [
    {
     "data": {
      "text/plain": [
       "\"I don't know. The provided context does not mention specific architecture choices for video generation.\""
      ]
     },
     "execution_count": 88,
     "metadata": {},
     "output_type": "execute_result"
    }
   ],
   "source": [
    "conversational_rag_chain.invoke(\n",
    "    {\"input\": \"What are still two common architecture choices for video generation?\"},\n",
    "    config={\"configurable\":{\"session_id\": \"xyz123\"}}\n",
    ")[\"answer\"]\n"
   ]
  },
  {
   "cell_type": "code",
   "execution_count": 89,
   "id": "c66ee9e8",
   "metadata": {},
   "outputs": [
    {
     "data": {
      "text/plain": [
       "\"I apologize, but I don't have any more information to provide. The text only describes the hierarchical sampler and its use in generating long videos with time consistency under memory constraints, and does not provide any additional details or examples.\""
      ]
     },
     "execution_count": 89,
     "metadata": {},
     "output_type": "execute_result"
    }
   ],
   "source": [
    "conversational_rag_chain.invoke(\n",
    "    {\"input\": \"Tell me more about it?\"},\n",
    "    config={\"configurable\":{\"session_id\": \"xyz123\"}}\n",
    ")[\"answer\"]"
   ]
  },
  {
   "cell_type": "code",
   "execution_count": 90,
   "id": "905bb7f6",
   "metadata": {},
   "outputs": [
    {
     "data": {
      "text/plain": [
       "{'xyz123': InMemoryChatMessageHistory(messages=[HumanMessage(content='What are still two common architecture choices for video generation?', additional_kwargs={}, response_metadata={}), AIMessage(content=\"I don't know. The provided context does not mention specific architecture choices for video generation. It only discusses the Gen-1 model by Runway and its decomposition of structure and content for video editing.\", additional_kwargs={}, response_metadata={}), HumanMessage(content='Tell me more about it', additional_kwargs={}, response_metadata={}), AIMessage(content='I apologize, but the provided context does not mention the Gen-1 model by Runway or its decomposition of structure and content for video editing. The context only appears to be a diagram or image description related to the diffusion update step in the angular coordinate and its use in DDIM (Denominator Diffusion-based Image Model). It does not contain any information about video generation architecture choices.', additional_kwargs={}, response_metadata={}), HumanMessage(content='Tell me more about it?', additional_kwargs={}, response_metadata={}), AIMessage(content='I apologize, but the provided context does not contain any additional information about video generation architecture choices. The text appears to be repetitive and only describes the use of a hierarchical sampler to enable long videos with time consistency under memory constraints, without providing any further details about specific architecture choices.', additional_kwargs={}, response_metadata={}), HumanMessage(content='Tell me more about it?', additional_kwargs={}, response_metadata={}), AIMessage(content=\"I apologize, but I don't have any more information to provide. The text only describes the hierarchical sampler and its use in generating long videos with time consistency under memory constraints, and does not provide any additional details or examples. If you have any specific questions or topics you'd like to discuss, I'd be happy to try and help.\", additional_kwargs={}, response_metadata={}), HumanMessage(content='What are still two common architecture choices for video generation?', additional_kwargs={}, response_metadata={}), AIMessage(content=\"I don't know. The provided context does not mention specific architecture choices for video generation.\", additional_kwargs={}, response_metadata={}), HumanMessage(content='Tell me more about it?', additional_kwargs={}, response_metadata={}), AIMessage(content=\"I apologize, but I don't have any more information to provide. The text only describes the hierarchical sampler and its use in generating long videos with time consistency under memory constraints, and does not provide any additional details or examples.\", additional_kwargs={}, response_metadata={})])}"
      ]
     },
     "execution_count": 90,
     "metadata": {},
     "output_type": "execute_result"
    }
   ],
   "source": [
    "store"
   ]
  }
 ],
 "metadata": {
  "kernelspec": {
   "display_name": "Python 3",
   "language": "python",
   "name": "python3"
  },
  "language_info": {
   "codemirror_mode": {
    "name": "ipython",
    "version": 3
   },
   "file_extension": ".py",
   "mimetype": "text/x-python",
   "name": "python",
   "nbconvert_exporter": "python",
   "pygments_lexer": "ipython3",
   "version": "3.11.9"
  }
 },
 "nbformat": 4,
 "nbformat_minor": 5
}
